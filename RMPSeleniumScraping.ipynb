{
 "cells": [
  {
   "cell_type": "markdown",
   "id": "e124c22e",
   "metadata": {
    "toc": true
   },
   "source": [
    "<h1>Table of Contents<span class=\"tocSkip\"></span></h1>\n",
    "<div class=\"toc\"><ul class=\"toc-item\"><li><span><a href=\"#Importing-Necessary-Libraries\" data-toc-modified-id=\"Importing-Necessary-Libraries-1\"><span class=\"toc-item-num\">1&nbsp;&nbsp;</span>Importing Necessary Libraries</a></span></li><li><span><a href=\"#Loading-all-of-Dynamic-JS-Website-w/-Selenium\" data-toc-modified-id=\"Loading-all-of-Dynamic-JS-Website-w/-Selenium-2\"><span class=\"toc-item-num\">2&nbsp;&nbsp;</span>Loading all of Dynamic JS Website w/ Selenium</a></span></li><li><span><a href=\"#Putting-Fully-Loaded-Website-Data-into-DataFrame\" data-toc-modified-id=\"Putting-Fully-Loaded-Website-Data-into-DataFrame-3\"><span class=\"toc-item-num\">3&nbsp;&nbsp;</span>Putting Fully Loaded Website Data into DataFrame</a></span></li><li><span><a href=\"#Exporting-DataFrame-to-CSV-for-SQL\" data-toc-modified-id=\"Exporting-DataFrame-to-CSV-for-SQL-4\"><span class=\"toc-item-num\">4&nbsp;&nbsp;</span>Exporting DataFrame to CSV for SQL</a></span></li></ul></div>"
   ]
  },
  {
   "cell_type": "markdown",
   "id": "9555bc3f",
   "metadata": {},
   "source": [
    "## Importing Necessary Libraries"
   ]
  },
  {
   "cell_type": "code",
   "execution_count": null,
   "id": "3d325687",
   "metadata": {},
   "outputs": [],
   "source": [
    "from bs4 import BeautifulSoup as bs\n",
    "import requests\n",
    "import pandas as pd\n",
    "import time\n",
    "pd.set_option('display.max_rows', None)\n",
    "pd.set_option('display.max_columns', None)"
   ]
  },
  {
   "cell_type": "code",
   "execution_count": null,
   "id": "646e5508",
   "metadata": {},
   "outputs": [],
   "source": [
    "from selenium import webdriver\n",
    "from selenium.webdriver.chrome.options import Options\n",
    "from selenium.common.exceptions import NoSuchElementException\n",
    "from selenium.webdriver.common.by import By"
   ]
  },
  {
   "cell_type": "markdown",
   "id": "8e6541cd",
   "metadata": {},
   "source": [
    "## Loading all of Dynamic JS Website w/ Selenium"
   ]
  },
  {
   "cell_type": "code",
   "execution_count": null,
   "id": "084d39f2",
   "metadata": {},
   "outputs": [],
   "source": [
    "url = \"https://www.ratemyprofessors.com/search/teachers?query=*&sid=881\""
   ]
  },
  {
   "cell_type": "code",
   "execution_count": null,
   "id": "fea6c105",
   "metadata": {},
   "outputs": [],
   "source": [
    "options = Options()\n",
    "b = webdriver.Chrome(options=options)"
   ]
  },
  {
   "cell_type": "code",
   "execution_count": null,
   "id": "8b215c4e",
   "metadata": {},
   "outputs": [],
   "source": [
    "b.get(url)"
   ]
  },
  {
   "cell_type": "code",
   "execution_count": null,
   "id": "47dd591e",
   "metadata": {},
   "outputs": [],
   "source": [
    "adCloser = b.find_element('xpath', \"/html/body/div[5]/div/div/button\")\n",
    "adCloser.click()\n",
    "\n",
    "for i in range(552):\n",
    "    time.sleep(.3)\n",
    "    try:\n",
    "        loadMoreBtn = b.find_element('xpath', '//*[@id=\"root\"]/div/div/div[4]/div[1]/div[1]/div[4]/button')\n",
    "        loadMoreBtn.click()\n",
    "    except NoSuchElementException:\n",
    "        break\n",
    "doc = b.page_source"
   ]
  },
  {
   "cell_type": "code",
   "execution_count": null,
   "id": "dbb3f735",
   "metadata": {},
   "outputs": [],
   "source": [
    "rows = b.find_elements(By.CLASS_NAME, 'dLJIlx')"
   ]
  },
  {
   "cell_type": "markdown",
   "id": "10a1c346",
   "metadata": {},
   "source": [
    "## Putting Fully Loaded Website Data into DataFrame"
   ]
  },
  {
   "cell_type": "code",
   "execution_count": null,
   "id": "4441de96",
   "metadata": {},
   "outputs": [],
   "source": [
    "dataset = []\n",
    "for row in rows:\n",
    "    data = {}\n",
    "    data['Professor Name'] = row.find_element(By.CLASS_NAME, 'cJdVEK').text\n",
    "    data['Subject'] = row.find_element(By.CLASS_NAME, 'haUIRO').text\n",
    "    data['Quality Rating'] = row.find_element(By.CLASS_NAME, 'CardNumRating__CardNumRatingNumber-sc-17t4b9u-2').text\n",
    "    wow = row.find_elements(By.CLASS_NAME, 'hroXqf')\n",
    "    data['Difficulty'] = wow[1].text\n",
    "    data['Would Take Again?'] = wow[0].text\n",
    "    data['Number of Rating'] = row.find_element(By.CLASS_NAME, 'jMRwbg').text\n",
    "    dataset.append(data)\n",
    "    \n",
    "teacher_data = pd.DataFrame(dataset)"
   ]
  },
  {
   "cell_type": "code",
   "execution_count": null,
   "id": "55f4e4b4",
   "metadata": {},
   "outputs": [],
   "source": [
    "teacher_data"
   ]
  },
  {
   "cell_type": "markdown",
   "id": "1d649cc9",
   "metadata": {},
   "source": [
    "## Exporting DataFrame to CSV for SQL"
   ]
  },
  {
   "cell_type": "code",
   "execution_count": null,
   "id": "babcb183",
   "metadata": {},
   "outputs": [],
   "source": [
    "teacher_data.to_csv('teacher_data.csv')"
   ]
  },
  {
   "cell_type": "code",
   "execution_count": null,
   "id": "d3e2aaa1",
   "metadata": {},
   "outputs": [],
   "source": [
    "pd.read_csv('teacher_data.csv')"
   ]
  }
 ],
 "metadata": {
  "kernelspec": {
   "display_name": "Python 3 (ipykernel)",
   "language": "python",
   "name": "python3"
  },
  "language_info": {
   "codemirror_mode": {
    "name": "ipython",
    "version": 3
   },
   "file_extension": ".py",
   "mimetype": "text/x-python",
   "name": "python",
   "nbconvert_exporter": "python",
   "pygments_lexer": "ipython3",
   "version": "3.9.12"
  },
  "toc": {
   "base_numbering": 1,
   "nav_menu": {},
   "number_sections": true,
   "sideBar": true,
   "skip_h1_title": false,
   "title_cell": "Table of Contents",
   "title_sidebar": "Contents",
   "toc_cell": true,
   "toc_position": {
    "height": "calc(100% - 180px)",
    "left": "10px",
    "top": "150px",
    "width": "165px"
   },
   "toc_section_display": true,
   "toc_window_display": true
  }
 },
 "nbformat": 4,
 "nbformat_minor": 5
}
